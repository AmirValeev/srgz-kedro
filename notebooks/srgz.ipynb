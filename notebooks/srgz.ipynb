{
 "cells": [
  {
   "cell_type": "code",
   "execution_count": 1,
   "id": "05014692-c453-41ad-96aa-ea674b95a2e0",
   "metadata": {},
   "outputs": [
    {
     "data": {
      "text/plain": [
       "<kedro.framework.context.context.KedroContext at 0x7f1712fe52e0>"
      ]
     },
     "execution_count": 1,
     "metadata": {},
     "output_type": "execute_result"
    }
   ],
   "source": [
    "context"
   ]
  },
  {
   "cell_type": "code",
   "execution_count": 1,
   "id": "180f1c84-106c-4c8c-b2db-e9ccbc56b135",
   "metadata": {},
   "outputs": [],
   "source": [
    "import pandas as pd"
   ]
  },
  {
   "cell_type": "code",
   "execution_count": 2,
   "id": "651b0947",
   "metadata": {},
   "outputs": [
    {
     "name": "stdout",
     "output_type": "stream",
     "text": [
      "2021-11-17 11:21:47,183 - kedro.io.data_catalog - INFO - Loading data from `df1` (CSVDataSet)...\n"
     ]
    }
   ],
   "source": [
    "df1 = catalog.load(\"df1\")\n"
   ]
  },
  {
   "cell_type": "code",
   "execution_count": 3,
   "id": "40a0f2f8-5e3f-44cf-92a5-ef1f0a0c2604",
   "metadata": {},
   "outputs": [
    {
     "name": "stdout",
     "output_type": "stream",
     "text": [
      "2021-11-17 11:21:56,713 - kedro.io.data_catalog - INFO - Loading data from `df2` (CSVDataSet)...\n"
     ]
    }
   ],
   "source": [
    "df2 = catalog.load(\"df2\")\n"
   ]
  },
  {
   "cell_type": "code",
   "execution_count": 4,
   "id": "7021a2de-4f3d-45e4-9dbe-4a8b457b89c3",
   "metadata": {},
   "outputs": [
    {
     "data": {
      "text/plain": [
       "(650803, 67)"
      ]
     },
     "execution_count": 4,
     "metadata": {},
     "output_type": "execute_result"
    }
   ],
   "source": [
    "df1.shape"
   ]
  },
  {
   "cell_type": "code",
   "execution_count": 5,
   "id": "0bff2862-c928-491b-8184-f1abb3f75e1a",
   "metadata": {},
   "outputs": [
    {
     "name": "stdout",
     "output_type": "stream",
     "text": [
      "2021-11-17 11:22:07,232 - kedro.io.data_catalog - INFO - Loading data from `features` (PickleDataSet)...\n"
     ]
    }
   ],
   "source": [
    "features = catalog.load('features')"
   ]
  },
  {
   "cell_type": "code",
   "execution_count": 6,
   "id": "cd2eae1e-a6eb-44fd-a51d-9bde37d39bc3",
   "metadata": {},
   "outputs": [
    {
     "data": {
      "text/plain": [
       "['sdssdr16_u_psf',\n",
       " 'sdssdr16_g_psf',\n",
       " 'sdssdr16_r_psf',\n",
       " 'sdssdr16_i_psf',\n",
       " 'sdssdr16_z_psf',\n",
       " 'sdssdr16_u_cmodel',\n",
       " 'sdssdr16_i_cmodel',\n",
       " 'sdssdr16_u-g_psf',\n",
       " 'sdssdr16_u-r_psf',\n",
       " 'sdssdr16_u-i_psf',\n",
       " 'sdssdr16_u-z_psf',\n",
       " 'sdssdr16_u_psf-cmodel',\n",
       " 'sdssdr16_g-i_psf',\n",
       " 'sdssdr16_g_psf-cmodel',\n",
       " 'sdssdr16_r-i_psf',\n",
       " 'sdssdr16_i-z_psf',\n",
       " 'sdssdr16_i_psf-cmodel',\n",
       " 'decals8tr_Lw1-Lw2',\n",
       " 'decals8tr_Lw1',\n",
       " 'decals8tr_Lw2']"
      ]
     },
     "execution_count": 6,
     "metadata": {},
     "output_type": "execute_result"
    }
   ],
   "source": [
    "features['sdssdr16+wise_decals8tr']"
   ]
  },
  {
   "cell_type": "code",
   "execution_count": 7,
   "id": "bfb02a85-a05b-4928-83f4-60c9de5f0b4b",
   "metadata": {},
   "outputs": [],
   "source": [
    "from srgz.pipelines.data_engineering.nodes import data_split, feature_prep, data_preparation"
   ]
  },
  {
   "cell_type": "code",
   "execution_count": 8,
   "id": "66ff856c-3072-40f0-840a-2c6aede31db5",
   "metadata": {},
   "outputs": [
    {
     "name": "stdout",
     "output_type": "stream",
     "text": [
      "(650803, 20) (650803,)\n",
      "(650803, 20)\n"
     ]
    }
   ],
   "source": [
    "data = data_preparation(features, df1, df2)"
   ]
  },
  {
   "cell_type": "code",
   "execution_count": 9,
   "id": "adbed581-815d-44d5-9f81-c564942ed05d",
   "metadata": {},
   "outputs": [
    {
     "data": {
      "text/plain": [
       "array([[-0.91363202, -0.99010847, -0.91583414, ..., -0.16508409,\n",
       "        -0.09440088,  0.09465881],\n",
       "       [ 0.3703203 ,  0.7225654 ,  0.50976001, ..., -0.30013778,\n",
       "        -0.76896619, -0.53023449],\n",
       "       [ 0.04819429,  1.04091512,  0.76263612, ..., -0.06249041,\n",
       "        -1.18696957, -1.06401824],\n",
       "       ...,\n",
       "       [-0.37970033, -0.44859295, -0.39399518, ..., -0.2960476 ,\n",
       "         0.68488119,  0.94745004],\n",
       "       [ 0.18475228,  0.36441888,  0.25089633, ...,  0.91204057,\n",
       "        -0.27566253, -0.58108164],\n",
       "       [ 0.06537042,  0.16348217,  0.14596681, ...,  0.87745696,\n",
       "        -0.10003944, -0.3865802 ]])"
      ]
     },
     "execution_count": 9,
     "metadata": {},
     "output_type": "execute_result"
    }
   ],
   "source": [
    "data['X_train']"
   ]
  },
  {
   "cell_type": "code",
   "execution_count": 10,
   "id": "464b1e04-2242-4dbd-9a48-75ec80ddd744",
   "metadata": {},
   "outputs": [
    {
     "data": {
      "text/plain": [
       "array([[-0.91363202, -0.99010847, -0.91583414, ..., -0.16508409,\n",
       "        -0.09440088,  0.09465881],\n",
       "       [ 0.3703203 ,  0.7225654 ,  0.50976001, ..., -0.30013778,\n",
       "        -0.76896619, -0.53023449],\n",
       "       [ 0.04819429,  1.04091512,  0.76263612, ..., -0.06249041,\n",
       "        -1.18696957, -1.06401824],\n",
       "       ...,\n",
       "       [-0.37970033, -0.44859295, -0.39399518, ..., -0.2960476 ,\n",
       "         0.68488119,  0.94745004],\n",
       "       [ 0.18475228,  0.36441888,  0.25089633, ...,  0.91204057,\n",
       "        -0.27566253, -0.58108164],\n",
       "       [ 0.06537042,  0.16348217,  0.14596681, ...,  0.87745696,\n",
       "        -0.10003944, -0.3865802 ]])"
      ]
     },
     "execution_count": 10,
     "metadata": {},
     "output_type": "execute_result"
    }
   ],
   "source": [
    "data['X_test']"
   ]
  },
  {
   "cell_type": "code",
   "execution_count": null,
   "id": "8bab01e3-7b9b-406f-bc03-aaa406c9f069",
   "metadata": {},
   "outputs": [],
   "source": []
  }
 ],
 "metadata": {
  "kernelspec": {
   "display_name": "srgz",
   "language": "python",
   "name": "python3"
  },
  "language_info": {
   "codemirror_mode": {
    "name": "ipython",
    "version": 3
   },
   "file_extension": ".py",
   "mimetype": "text/x-python",
   "name": "python",
   "nbconvert_exporter": "python",
   "pygments_lexer": "ipython3",
   "version": "3.8.12"
  }
 },
 "nbformat": 4,
 "nbformat_minor": 5
}
