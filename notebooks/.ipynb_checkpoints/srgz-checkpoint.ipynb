{
 "cells": [
  {
   "cell_type": "code",
   "execution_count": 11,
   "id": "05014692-c453-41ad-96aa-ea674b95a2e0",
   "metadata": {},
   "outputs": [
    {
     "data": {
      "text/plain": [
       "<kedro.framework.context.context.KedroContext at 0x7f12ef48f0a0>"
      ]
     },
     "execution_count": 11,
     "metadata": {},
     "output_type": "execute_result"
    }
   ],
   "source": [
    "context"
   ]
  },
  {
   "cell_type": "code",
   "execution_count": 12,
   "id": "180f1c84-106c-4c8c-b2db-e9ccbc56b135",
   "metadata": {},
   "outputs": [],
   "source": [
    "import pandas as pd"
   ]
  },
  {
   "cell_type": "code",
   "execution_count": 13,
   "id": "651b0947",
   "metadata": {},
   "outputs": [
    {
     "name": "stdout",
     "output_type": "stream",
     "text": [
      "2021-10-25 15:55:31,135 - kedro.io.data_catalog - INFO - Loading data from `df1` (CSVDataSet)...\n"
     ]
    },
    {
     "data": {
      "text/html": [
       "<div>\n",
       "<style scoped>\n",
       "    .dataframe tbody tr th:only-of-type {\n",
       "        vertical-align: middle;\n",
       "    }\n",
       "\n",
       "    .dataframe tbody tr th {\n",
       "        vertical-align: top;\n",
       "    }\n",
       "\n",
       "    .dataframe thead th {\n",
       "        text-align: right;\n",
       "    }\n",
       "</style>\n",
       "<table border=\"1\" class=\"dataframe\">\n",
       "  <thead>\n",
       "    <tr style=\"text-align: right;\">\n",
       "      <th></th>\n",
       "      <th>sdssdr16_r_cmodel</th>\n",
       "      <th>sdssdr16_u_psf</th>\n",
       "      <th>sdssdr16_g_psf</th>\n",
       "      <th>sdssdr16_r_psf</th>\n",
       "      <th>sdssdr16_i_psf</th>\n",
       "      <th>sdssdr16_z_psf</th>\n",
       "      <th>sdssdr16_u_cmodel</th>\n",
       "      <th>sdssdr16_i_cmodel</th>\n",
       "      <th>sdssdr16_u-g_psf</th>\n",
       "      <th>sdssdr16_u-r_psf</th>\n",
       "      <th>...</th>\n",
       "      <th>decals8tr_g</th>\n",
       "      <th>decals8tr_r</th>\n",
       "      <th>decals8tr_z</th>\n",
       "      <th>decals8tr_g-r</th>\n",
       "      <th>decals8tr_g-z</th>\n",
       "      <th>decals8tr_r-z</th>\n",
       "      <th>sdssdr16_g_cmodel-decals8tr_g</th>\n",
       "      <th>sdssdr16_r_cmodel-decals8tr_r</th>\n",
       "      <th>sdssdr16_z_cmodel-decals8tr_z</th>\n",
       "      <th>class</th>\n",
       "    </tr>\n",
       "  </thead>\n",
       "  <tbody>\n",
       "    <tr>\n",
       "      <th>0</th>\n",
       "      <td>16.824337</td>\n",
       "      <td>21.455454</td>\n",
       "      <td>20.397562</td>\n",
       "      <td>20.176270</td>\n",
       "      <td>20.017108</td>\n",
       "      <td>19.522008</td>\n",
       "      <td>18.280063</td>\n",
       "      <td>16.635444</td>\n",
       "      <td>1.057893</td>\n",
       "      <td>1.279184</td>\n",
       "      <td>...</td>\n",
       "      <td>17.131625</td>\n",
       "      <td>16.695060</td>\n",
       "      <td>16.505153</td>\n",
       "      <td>0.436565</td>\n",
       "      <td>0.626472</td>\n",
       "      <td>0.189907</td>\n",
       "      <td>-0.043534</td>\n",
       "      <td>0.129278</td>\n",
       "      <td>0.245783</td>\n",
       "      <td>3</td>\n",
       "    </tr>\n",
       "    <tr>\n",
       "      <th>1</th>\n",
       "      <td>13.692711</td>\n",
       "      <td>18.601305</td>\n",
       "      <td>16.781441</td>\n",
       "      <td>16.180791</td>\n",
       "      <td>15.854903</td>\n",
       "      <td>15.484326</td>\n",
       "      <td>16.269734</td>\n",
       "      <td>13.308142</td>\n",
       "      <td>1.819864</td>\n",
       "      <td>2.420514</td>\n",
       "      <td>...</td>\n",
       "      <td>14.462591</td>\n",
       "      <td>13.668784</td>\n",
       "      <td>13.064438</td>\n",
       "      <td>0.793807</td>\n",
       "      <td>1.398152</td>\n",
       "      <td>0.604346</td>\n",
       "      <td>-0.017877</td>\n",
       "      <td>0.023927</td>\n",
       "      <td>-0.000922</td>\n",
       "      <td>3</td>\n",
       "    </tr>\n",
       "    <tr>\n",
       "      <th>2</th>\n",
       "      <td>16.642016</td>\n",
       "      <td>19.744036</td>\n",
       "      <td>18.145850</td>\n",
       "      <td>17.332207</td>\n",
       "      <td>17.088476</td>\n",
       "      <td>16.753079</td>\n",
       "      <td>19.015308</td>\n",
       "      <td>16.324593</td>\n",
       "      <td>1.598187</td>\n",
       "      <td>2.411829</td>\n",
       "      <td>...</td>\n",
       "      <td>17.370015</td>\n",
       "      <td>16.555309</td>\n",
       "      <td>16.004075</td>\n",
       "      <td>0.814706</td>\n",
       "      <td>1.365940</td>\n",
       "      <td>0.551234</td>\n",
       "      <td>0.031913</td>\n",
       "      <td>0.086707</td>\n",
       "      <td>0.033045</td>\n",
       "      <td>3</td>\n",
       "    </tr>\n",
       "    <tr>\n",
       "      <th>3</th>\n",
       "      <td>15.300124</td>\n",
       "      <td>20.341056</td>\n",
       "      <td>19.010524</td>\n",
       "      <td>18.585923</td>\n",
       "      <td>17.817668</td>\n",
       "      <td>17.890224</td>\n",
       "      <td>17.053515</td>\n",
       "      <td>14.998069</td>\n",
       "      <td>1.330532</td>\n",
       "      <td>1.755133</td>\n",
       "      <td>...</td>\n",
       "      <td>14.927440</td>\n",
       "      <td>14.316945</td>\n",
       "      <td>13.875463</td>\n",
       "      <td>0.610495</td>\n",
       "      <td>1.051978</td>\n",
       "      <td>0.441483</td>\n",
       "      <td>0.870102</td>\n",
       "      <td>0.983178</td>\n",
       "      <td>0.919084</td>\n",
       "      <td>3</td>\n",
       "    </tr>\n",
       "    <tr>\n",
       "      <th>4</th>\n",
       "      <td>17.380912</td>\n",
       "      <td>19.755114</td>\n",
       "      <td>18.861927</td>\n",
       "      <td>18.829504</td>\n",
       "      <td>18.670477</td>\n",
       "      <td>18.471404</td>\n",
       "      <td>18.614930</td>\n",
       "      <td>17.206909</td>\n",
       "      <td>0.893187</td>\n",
       "      <td>0.925610</td>\n",
       "      <td>...</td>\n",
       "      <td>17.734852</td>\n",
       "      <td>17.469001</td>\n",
       "      <td>17.288355</td>\n",
       "      <td>0.265851</td>\n",
       "      <td>0.446497</td>\n",
       "      <td>0.180646</td>\n",
       "      <td>-0.086867</td>\n",
       "      <td>-0.088089</td>\n",
       "      <td>-0.168231</td>\n",
       "      <td>3</td>\n",
       "    </tr>\n",
       "  </tbody>\n",
       "</table>\n",
       "<p>5 rows × 67 columns</p>\n",
       "</div>"
      ],
      "text/plain": [
       "   sdssdr16_r_cmodel  sdssdr16_u_psf  sdssdr16_g_psf  sdssdr16_r_psf  \\\n",
       "0          16.824337       21.455454       20.397562       20.176270   \n",
       "1          13.692711       18.601305       16.781441       16.180791   \n",
       "2          16.642016       19.744036       18.145850       17.332207   \n",
       "3          15.300124       20.341056       19.010524       18.585923   \n",
       "4          17.380912       19.755114       18.861927       18.829504   \n",
       "\n",
       "   sdssdr16_i_psf  sdssdr16_z_psf  sdssdr16_u_cmodel  sdssdr16_i_cmodel  \\\n",
       "0       20.017108       19.522008          18.280063          16.635444   \n",
       "1       15.854903       15.484326          16.269734          13.308142   \n",
       "2       17.088476       16.753079          19.015308          16.324593   \n",
       "3       17.817668       17.890224          17.053515          14.998069   \n",
       "4       18.670477       18.471404          18.614930          17.206909   \n",
       "\n",
       "   sdssdr16_u-g_psf  sdssdr16_u-r_psf  ...  decals8tr_g  decals8tr_r  \\\n",
       "0          1.057893          1.279184  ...    17.131625    16.695060   \n",
       "1          1.819864          2.420514  ...    14.462591    13.668784   \n",
       "2          1.598187          2.411829  ...    17.370015    16.555309   \n",
       "3          1.330532          1.755133  ...    14.927440    14.316945   \n",
       "4          0.893187          0.925610  ...    17.734852    17.469001   \n",
       "\n",
       "   decals8tr_z  decals8tr_g-r  decals8tr_g-z  decals8tr_r-z  \\\n",
       "0    16.505153       0.436565       0.626472       0.189907   \n",
       "1    13.064438       0.793807       1.398152       0.604346   \n",
       "2    16.004075       0.814706       1.365940       0.551234   \n",
       "3    13.875463       0.610495       1.051978       0.441483   \n",
       "4    17.288355       0.265851       0.446497       0.180646   \n",
       "\n",
       "   sdssdr16_g_cmodel-decals8tr_g  sdssdr16_r_cmodel-decals8tr_r  \\\n",
       "0                      -0.043534                       0.129278   \n",
       "1                      -0.017877                       0.023927   \n",
       "2                       0.031913                       0.086707   \n",
       "3                       0.870102                       0.983178   \n",
       "4                      -0.086867                      -0.088089   \n",
       "\n",
       "   sdssdr16_z_cmodel-decals8tr_z  class  \n",
       "0                       0.245783      3  \n",
       "1                      -0.000922      3  \n",
       "2                       0.033045      3  \n",
       "3                       0.919084      3  \n",
       "4                      -0.168231      3  \n",
       "\n",
       "[5 rows x 67 columns]"
      ]
     },
     "execution_count": 13,
     "metadata": {},
     "output_type": "execute_result"
    }
   ],
   "source": [
    "df = catalog.load(\"df1\")\n"
   ]
  },
  {
   "cell_type": "code",
   "execution_count": 22,
   "id": "7021a2de-4f3d-45e4-9dbe-4a8b457b89c3",
   "metadata": {},
   "outputs": [
    {
     "data": {
      "text/plain": [
       "(650803, 67)"
      ]
     },
     "execution_count": 22,
     "metadata": {},
     "output_type": "execute_result"
    }
   ],
   "source": [
    "df.shape"
   ]
  },
  {
   "cell_type": "code",
   "execution_count": 1,
   "id": "dfd0a302",
   "metadata": {},
   "outputs": [
    {
     "name": "stdout",
     "output_type": "stream",
     "text": [
      "2021-10-25 16:07:30,011 - kedro.io.data_catalog - INFO - Loading data from `features_raw` (PickleDataSet)...\n"
     ]
    }
   ],
   "source": [
    "df = catalog.load('features_raw')"
   ]
  },
  {
   "cell_type": "code",
   "execution_count": 2,
   "id": "6f47c373",
   "metadata": {},
   "outputs": [
    {
     "data": {
      "text/plain": [
       "['sdssdr16_u_psf',\n",
       " 'sdssdr16_g_psf',\n",
       " 'sdssdr16_r_psf',\n",
       " 'sdssdr16_i_psf',\n",
       " 'sdssdr16_z_psf',\n",
       " 'sdssdr16_u_cmodel',\n",
       " 'sdssdr16_i_cmodel',\n",
       " 'sdssdr16_u-g_psf',\n",
       " 'sdssdr16_u-r_psf',\n",
       " 'sdssdr16_u-i_psf',\n",
       " 'sdssdr16_u-z_psf',\n",
       " 'sdssdr16_u_psf-cmodel',\n",
       " 'sdssdr16_g-i_psf',\n",
       " 'sdssdr16_g_psf-cmodel',\n",
       " 'sdssdr16_r-i_psf',\n",
       " 'sdssdr16_i-z_psf',\n",
       " 'sdssdr16_i_psf-cmodel',\n",
       " 'sdssdr16_u_cmodel-decals8tr_Lw1',\n",
       " 'sdssdr16_u_cmodel-decals8tr_Lw2',\n",
       " 'sdssdr16_g_cmodel-decals8tr_Lw1',\n",
       " 'sdssdr16_g_cmodel-decals8tr_Lw2',\n",
       " 'sdssdr16_r_cmodel-decals8tr_Lw1',\n",
       " 'sdssdr16_r_cmodel-decals8tr_Lw2',\n",
       " 'sdssdr16_i_cmodel-decals8tr_Lw1',\n",
       " 'sdssdr16_i_cmodel-decals8tr_Lw2',\n",
       " 'sdssdr16_z_cmodel-decals8tr_Lw1',\n",
       " 'sdssdr16_z_cmodel-decals8tr_Lw2',\n",
       " 'psdr2_i_kron',\n",
       " 'psdr2_y_kron',\n",
       " 'psdr2_g_psf',\n",
       " 'psdr2_r_psf',\n",
       " 'psdr2_i_psf',\n",
       " 'psdr2_z_psf',\n",
       " 'psdr2_y_psf',\n",
       " 'psdr2_g-i_psf',\n",
       " 'psdr2_g-y_psf',\n",
       " 'psdr2_r-i_psf',\n",
       " 'psdr2_r-y_psf',\n",
       " 'psdr2_i-z_psf',\n",
       " 'psdr2_i-y_psf',\n",
       " 'psdr2_i_psf-kron',\n",
       " 'psdr2_z-y_psf',\n",
       " 'psdr2_y_psf-kron',\n",
       " 'psdr2_g_kron-decals8tr_Lw1',\n",
       " 'psdr2_g_kron-decals8tr_Lw2',\n",
       " 'psdr2_r_kron-decals8tr_Lw1',\n",
       " 'psdr2_r_kron-decals8tr_Lw2',\n",
       " 'psdr2_i_kron-decals8tr_Lw1',\n",
       " 'psdr2_i_kron-decals8tr_Lw2',\n",
       " 'psdr2_z_kron-decals8tr_Lw1',\n",
       " 'psdr2_z_kron-decals8tr_Lw2',\n",
       " 'psdr2_y_kron-decals8tr_Lw1',\n",
       " 'psdr2_y_kron-decals8tr_Lw2',\n",
       " 'decals8tr_Lw1-Lw2',\n",
       " 'decals8tr_Lw1',\n",
       " 'decals8tr_Lw2',\n",
       " 'decals8tr_g',\n",
       " 'decals8tr_r',\n",
       " 'decals8tr_z',\n",
       " 'decals8tr_g-r',\n",
       " 'decals8tr_g-z',\n",
       " 'decals8tr_r-z',\n",
       " 'sdssdr16_g_cmodel-decals8tr_g',\n",
       " 'sdssdr16_r_cmodel-decals8tr_r',\n",
       " 'sdssdr16_z_cmodel-decals8tr_z']"
      ]
     },
     "execution_count": 2,
     "metadata": {},
     "output_type": "execute_result"
    }
   ],
   "source": [
    "df"
   ]
  },
  {
   "cell_type": "code",
   "execution_count": 3,
   "id": "0bff2862-c928-491b-8184-f1abb3f75e1a",
   "metadata": {},
   "outputs": [
    {
     "ename": "DataSetNotFoundError",
     "evalue": "DataSet 'test_y' not found in the catalog",
     "output_type": "error",
     "traceback": [
      "\u001b[0;31m---------------------------------------------------------------------------\u001b[0m",
      "\u001b[0;31mDataSetNotFoundError\u001b[0m                      Traceback (most recent call last)",
      "\u001b[0;32m/tmp/ipykernel_10709/4066766081.py\u001b[0m in \u001b[0;36m<module>\u001b[0;34m\u001b[0m\n\u001b[0;32m----> 1\u001b[0;31m \u001b[0mdf\u001b[0m \u001b[0;34m=\u001b[0m \u001b[0mcatalog\u001b[0m\u001b[0;34m.\u001b[0m\u001b[0mload\u001b[0m\u001b[0;34m(\u001b[0m\u001b[0;34m'test_y'\u001b[0m\u001b[0;34m)\u001b[0m\u001b[0;34m\u001b[0m\u001b[0;34m\u001b[0m\u001b[0m\n\u001b[0m",
      "\u001b[0;32m~/anaconda3/envs/amir/lib/python3.8/site-packages/kedro/io/data_catalog.py\u001b[0m in \u001b[0;36mload\u001b[0;34m(self, name, version)\u001b[0m\n\u001b[1;32m    393\u001b[0m         \"\"\"\n\u001b[1;32m    394\u001b[0m         \u001b[0mload_version\u001b[0m \u001b[0;34m=\u001b[0m \u001b[0mVersion\u001b[0m\u001b[0;34m(\u001b[0m\u001b[0mversion\u001b[0m\u001b[0;34m,\u001b[0m \u001b[0;32mNone\u001b[0m\u001b[0;34m)\u001b[0m \u001b[0;32mif\u001b[0m \u001b[0mversion\u001b[0m \u001b[0;32melse\u001b[0m \u001b[0;32mNone\u001b[0m\u001b[0;34m\u001b[0m\u001b[0;34m\u001b[0m\u001b[0m\n\u001b[0;32m--> 395\u001b[0;31m         \u001b[0mdataset\u001b[0m \u001b[0;34m=\u001b[0m \u001b[0mself\u001b[0m\u001b[0;34m.\u001b[0m\u001b[0m_get_dataset\u001b[0m\u001b[0;34m(\u001b[0m\u001b[0mname\u001b[0m\u001b[0;34m,\u001b[0m \u001b[0mversion\u001b[0m\u001b[0;34m=\u001b[0m\u001b[0mload_version\u001b[0m\u001b[0;34m)\u001b[0m\u001b[0;34m\u001b[0m\u001b[0;34m\u001b[0m\u001b[0m\n\u001b[0m\u001b[1;32m    396\u001b[0m \u001b[0;34m\u001b[0m\u001b[0m\n\u001b[1;32m    397\u001b[0m         self._logger.info(\n",
      "\u001b[0;32m~/anaconda3/envs/amir/lib/python3.8/site-packages/kedro/io/data_catalog.py\u001b[0m in \u001b[0;36m_get_dataset\u001b[0;34m(self, data_set_name, version)\u001b[0m\n\u001b[1;32m    344\u001b[0m                 \u001b[0merror_msg\u001b[0m \u001b[0;34m+=\u001b[0m \u001b[0;34mf\" - did you mean one of these instead: {suggestions}\"\u001b[0m\u001b[0;34m\u001b[0m\u001b[0;34m\u001b[0m\u001b[0m\n\u001b[1;32m    345\u001b[0m \u001b[0;34m\u001b[0m\u001b[0m\n\u001b[0;32m--> 346\u001b[0;31m             \u001b[0;32mraise\u001b[0m \u001b[0mDataSetNotFoundError\u001b[0m\u001b[0;34m(\u001b[0m\u001b[0merror_msg\u001b[0m\u001b[0;34m)\u001b[0m\u001b[0;34m\u001b[0m\u001b[0;34m\u001b[0m\u001b[0m\n\u001b[0m\u001b[1;32m    347\u001b[0m \u001b[0;34m\u001b[0m\u001b[0m\n\u001b[1;32m    348\u001b[0m         \u001b[0mdata_set\u001b[0m \u001b[0;34m=\u001b[0m \u001b[0mself\u001b[0m\u001b[0;34m.\u001b[0m\u001b[0m_data_sets\u001b[0m\u001b[0;34m[\u001b[0m\u001b[0mdata_set_name\u001b[0m\u001b[0;34m]\u001b[0m\u001b[0;34m\u001b[0m\u001b[0;34m\u001b[0m\u001b[0m\n",
      "\u001b[0;31mDataSetNotFoundError\u001b[0m: DataSet 'test_y' not found in the catalog"
     ]
    }
   ],
   "source": [
    "df = catalog.load('test_y')"
   ]
  },
  {
   "cell_type": "code",
   "execution_count": null,
   "id": "cd2eae1e-a6eb-44fd-a51d-9bde37d39bc3",
   "metadata": {},
   "outputs": [],
   "source": []
  }
 ],
 "metadata": {
  "kernelspec": {
   "display_name": "srgz",
   "language": "python",
   "name": "python3"
  },
  "language_info": {
   "codemirror_mode": {
    "name": "ipython",
    "version": 3
   },
   "file_extension": ".py",
   "mimetype": "text/x-python",
   "name": "python",
   "nbconvert_exporter": "python",
   "pygments_lexer": "ipython3",
   "version": "3.8.12"
  }
 },
 "nbformat": 4,
 "nbformat_minor": 5
}
